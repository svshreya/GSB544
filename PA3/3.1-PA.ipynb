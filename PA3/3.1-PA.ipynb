{
  "nbformat": 4,
  "nbformat_minor": 0,
  "metadata": {
    "colab": {
      "provenance": []
    },
    "kernelspec": {
      "name": "python3",
      "display_name": "Python 3"
    },
    "language_info": {
      "name": "python"
    }
  },
  "cells": [
    {
      "cell_type": "code",
      "source": [
        "#!pip install palmerpenguins"
      ],
      "metadata": {
        "id": "ft_WYOPgkcCM"
      },
      "execution_count": 5,
      "outputs": []
    },
    {
      "cell_type": "code",
      "execution_count": 6,
      "metadata": {
        "id": "b69ul3XcoRQv"
      },
      "outputs": [],
      "source": [
        "import numpy as np\n",
        "import pandas as pd\n",
        "from sys import exit\n",
        "from palmerpenguins import load_penguins\n",
        "from plotnine import ggplot, aes, geom_point, geom_bar"
      ]
    },
    {
      "cell_type": "markdown",
      "source": [
        "1. Fill in the necessary code to write a function called `times_seven()`. The function should take a single argument (`x`) and multiply the input by 7.\n",
        "  + This function should check that the argument is numeric.\n",
        "  + This function should also excitedly announce (print) *“I love sevens!”* if the argument to the function is a 7."
      ],
      "metadata": {
        "id": "1Q8_a-5qociG"
      }
    },
    {
      "cell_type": "code",
      "source": [
        "def times_seven(x):\n",
        "\n",
        "  if not isinstance(x, (int, float)):\n",
        "    exit(\"The input must be numeric.\")\n",
        "\n",
        "  if x == 7:\n",
        "    print(\"I love sevens!\")\n",
        "\n",
        "  return x*7"
      ],
      "metadata": {
        "id": "l5CW0nuloYzy"
      },
      "execution_count": 7,
      "outputs": []
    },
    {
      "cell_type": "markdown",
      "source": [
        "2. Write and run some *unit tests* for your `times_seven` function.  What happens if the input to the function is `[1, 3, 5, 7]`?"
      ],
      "metadata": {
        "id": "nonjYlruotrq"
      }
    },
    {
      "cell_type": "code",
      "source": [
        "times_seven(1)"
      ],
      "metadata": {
        "id": "kivGWZpgGnhL",
        "colab": {
          "base_uri": "https://localhost:8080/"
        },
        "outputId": "ad13389c-f5b4-4f0a-f45d-f81b02b05e4f"
      },
      "execution_count": 9,
      "outputs": [
        {
          "output_type": "execute_result",
          "data": {
            "text/plain": [
              "7"
            ]
          },
          "metadata": {},
          "execution_count": 9
        }
      ]
    },
    {
      "cell_type": "code",
      "source": [
        "times_seven(3)"
      ],
      "metadata": {
        "colab": {
          "base_uri": "https://localhost:8080/"
        },
        "id": "r8L0wcnixZCq",
        "outputId": "42471141-dbf9-4bc8-b736-2cf391d6cced"
      },
      "execution_count": 10,
      "outputs": [
        {
          "output_type": "execute_result",
          "data": {
            "text/plain": [
              "21"
            ]
          },
          "metadata": {},
          "execution_count": 10
        }
      ]
    },
    {
      "cell_type": "code",
      "source": [
        "times_seven(5)"
      ],
      "metadata": {
        "colab": {
          "base_uri": "https://localhost:8080/"
        },
        "id": "2zLyFFiPxbCa",
        "outputId": "b5f6ae19-5511-4236-dd9a-591c0a4636b0"
      },
      "execution_count": 11,
      "outputs": [
        {
          "output_type": "execute_result",
          "data": {
            "text/plain": [
              "35"
            ]
          },
          "metadata": {},
          "execution_count": 11
        }
      ]
    },
    {
      "cell_type": "code",
      "source": [
        "times_seven(7)"
      ],
      "metadata": {
        "colab": {
          "base_uri": "https://localhost:8080/"
        },
        "id": "W7whUFEGxc6y",
        "outputId": "9316224d-74d2-47ce-c967-0cd1cdea6463"
      },
      "execution_count": 12,
      "outputs": [
        {
          "output_type": "stream",
          "name": "stdout",
          "text": [
            "I love sevens!\n"
          ]
        },
        {
          "output_type": "execute_result",
          "data": {
            "text/plain": [
              "49"
            ]
          },
          "metadata": {},
          "execution_count": 12
        }
      ]
    },
    {
      "cell_type": "markdown",
      "source": [
        "3. Consider the following function:"
      ],
      "metadata": {
        "id": "98sLHKBno39e"
      }
    },
    {
      "cell_type": "code",
      "source": [
        "def add_or_subtract(first_num, second_num = 2, type = \"add\"):\n",
        "\n",
        "  if (type == \"add\"):\n",
        "    res = first_num + second_num\n",
        "  elif (type == \"subtract\"):\n",
        "    res = first_num - second_num\n",
        "  else:\n",
        "    exit(\"Please choose `add` or `subtract` as the type.\")\n",
        "\n",
        "    return res"
      ],
      "metadata": {
        "id": "V1xGEwq-o5mh"
      },
      "execution_count": 13,
      "outputs": []
    },
    {
      "cell_type": "markdown",
      "source": [
        "**Without running the code**, predict if the following will produce:\n",
        "\n",
        "a. 1\n",
        "\n",
        "b. -1\n",
        "\n",
        "c. 30\n",
        "\n",
        "d. An error defined by the function `add_or_subtract()`\n",
        "\n",
        "e. An error defined in a different function, which is called inside the `add_or_subtract()` function"
      ],
      "metadata": {
        "id": "KIzEYgR1pI0K"
      }
    },
    {
      "cell_type": "markdown",
      "source": [
        "a) The function will not produce 1 as the type is subtract.\n",
        "b) The function will return -1.\n",
        "c) The function will not return a value of 30 as it it isn't defined for multiply type.\n",
        "d) This will produce the error when the type is not \"add\" or \"subtract\"  but a invalid type as seen in this case, so the function will produce an error message.\n",
        "e) This error will be produced."
      ],
      "metadata": {
        "id": "saPBF8s6fNBZ"
      }
    },
    {
      "cell_type": "code",
      "source": [
        "add_or_subtract(5, 6, type = \"subtract\")\n",
        "\n",
        "add_or_subtract(\"orange\")\n",
        "\n",
        "add_or_subtract(5, 6, type = \"multiply\")"
      ],
      "metadata": {
        "id": "AKN_fkigpHIS"
      },
      "execution_count": 16,
      "outputs": []
    },
    {
      "cell_type": "markdown",
      "source": [
        "4. Consider the following code:"
      ],
      "metadata": {
        "id": "Z0_cVjgdpOSr"
      }
    },
    {
      "cell_type": "code",
      "source": [
        "first_num  = 5\n",
        "second_num = 3\n",
        "\n",
        "result = 8\n",
        "\n",
        "result = add_or_subtract(first_num, second_num = 4)\n",
        "\n",
        "result_2 = add_or_subtract(first_num)"
      ],
      "metadata": {
        "id": "G4ImmGWGpekK"
      },
      "execution_count": 18,
      "outputs": []
    },
    {
      "cell_type": "markdown",
      "source": [
        "\n",
        "In your Global Environment, what is the value of...\n",
        "\n",
        "a. `first_num`\n",
        "\n",
        "b. `second_num`\n",
        "\n",
        "c. `result`\n",
        "\n",
        "d. `result_2`"
      ],
      "metadata": {
        "id": "K0I7k29Qpjfo"
      }
    },
    {
      "cell_type": "markdown",
      "source": [
        "a. first num is just = 5.\n",
        "\n",
        "b. second_num is just  =3.\n",
        "\n",
        "c. The result is 8 at first then gives us no value because neither add nor subtract was chosen.\n",
        "\n",
        "d. result_2 also has no value because neither add nor subtract was chosen & a second_num was not provided."
      ],
      "metadata": {
        "id": "StJkmJ-vx0Qi"
      }
    },
    {
      "cell_type": "code",
      "source": [
        "first_num"
      ],
      "metadata": {
        "colab": {
          "base_uri": "https://localhost:8080/"
        },
        "id": "9BwivRitilOU",
        "outputId": "a9cf3af0-94d1-4cb2-b372-41ca298763f0"
      },
      "execution_count": 19,
      "outputs": [
        {
          "output_type": "execute_result",
          "data": {
            "text/plain": [
              "5"
            ]
          },
          "metadata": {},
          "execution_count": 19
        }
      ]
    },
    {
      "cell_type": "code",
      "source": [
        "second_num"
      ],
      "metadata": {
        "colab": {
          "base_uri": "https://localhost:8080/"
        },
        "id": "SN5_UeFViqGn",
        "outputId": "7e1f403c-4c24-453a-8cd5-ec2b96b880f7"
      },
      "execution_count": 20,
      "outputs": [
        {
          "output_type": "execute_result",
          "data": {
            "text/plain": [
              "3"
            ]
          },
          "metadata": {},
          "execution_count": 20
        }
      ]
    },
    {
      "cell_type": "code",
      "source": [
        "result"
      ],
      "metadata": {
        "id": "zhfuF4n6irxG"
      },
      "execution_count": 22,
      "outputs": []
    },
    {
      "cell_type": "code",
      "source": [
        "print(result_2)\n"
      ],
      "metadata": {
        "id": "mNAXQknoivwt",
        "colab": {
          "base_uri": "https://localhost:8080/"
        },
        "outputId": "0aa00059-d7a0-4f91-c7ce-3d146aaf380f"
      },
      "execution_count": 25,
      "outputs": [
        {
          "output_type": "stream",
          "name": "stdout",
          "text": [
            "None\n"
          ]
        }
      ]
    }
  ]
}